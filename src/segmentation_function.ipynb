{
 "cells": [
  {
   "cell_type": "markdown",
   "metadata": {},
   "source": [
    "### Importing libs"
   ]
  },
  {
   "cell_type": "code",
   "execution_count": 22,
   "metadata": {},
   "outputs": [],
   "source": [
    "\n",
    "import pandas as pd\n",
    "import pydicom as pdcm\n",
    "import cv2 as cv\n",
    "import matplotlib.pyplot as plt\n",
    "import os \n",
    "import numpy as np"
   ]
  },
  {
   "cell_type": "markdown",
   "metadata": {},
   "source": [
    "### Carregando uma imagem"
   ]
  },
  {
   "cell_type": "code",
   "execution_count": 245,
   "metadata": {},
   "outputs": [],
   "source": [
    "img_path = r\"data\\base_02\\Isquêmico\\Iran C A Cunha\\TC_Brian_IranCAC_avcI00063.dcm\"\n",
    "img = pdcm.dcmread(img_path, 0)\n",
    "\n",
    "\n",
    "# Configurando os valores de janelamento:\n",
    "new_window_center = 100\n",
    "new_window_width = 40\n",
    "# Atualizando os valores:\n",
    "\n",
    "img.WindowCenter = new_window_center\n",
    "img.WindowWidth = new_window_width\n",
    "# Aplicando janelamento à imagem\n",
    "\n",
    "img_dicom = img.pixel_array\n",
    "min_val = new_window_center - new_window_width /2\n",
    "max_val = new_window_center + new_window_width /2\n",
    "\n",
    "windowed_image = np.clip( img_dicom, min_val, max_val)\n",
    "# Escalar a imagem para o intervalo [0, 255] para exibição com OpenCV\n",
    "scaled_image = cv.normalize(windowed_image, None, 0, 255, cv.NORM_MINMAX)\n",
    "# Verificação de a imagem foi carregada com sucesso:\n",
    "if not os.path.exists(img_path):\n",
    "    raise FileNotFoundError(f'O arquivo não existe: {img_path}')\n",
    "else:\n",
    "    # Exibir a imagem\n",
    "  \n",
    "    #fig = plt.figure(figsize = (8 ,6))\n",
    "    #plt.imshow(scaled_image, cmap= plt.cm.gray)\n",
    "    #plt.title('Imagem DICOM Janelada')\n",
    "    \n",
    "    cv.imshow('Imagem DICOM Ajustada', scaled_image)\n",
    "    cv.waitKey(0)\n",
    "    cv.destroyAllWindows()"
   ]
  },
  {
   "cell_type": "code",
   "execution_count": null,
   "metadata": {},
   "outputs": [],
   "source": []
  },
  {
   "cell_type": "code",
   "execution_count": null,
   "metadata": {},
   "outputs": [],
   "source": []
  }
 ],
 "metadata": {
  "kernelspec": {
   "display_name": ".env",
   "language": "python",
   "name": "python3"
  },
  "language_info": {
   "codemirror_mode": {
    "name": "ipython",
    "version": 3
   },
   "file_extension": ".py",
   "mimetype": "text/x-python",
   "name": "python",
   "nbconvert_exporter": "python",
   "pygments_lexer": "ipython3",
   "version": "3.11.6"
  }
 },
 "nbformat": 4,
 "nbformat_minor": 2
}
